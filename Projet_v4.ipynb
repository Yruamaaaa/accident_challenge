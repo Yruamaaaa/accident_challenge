{
 "cells": [
  {
   "cell_type": "code",
   "execution_count": 1,
   "id": "7c5927b8",
   "metadata": {},
   "outputs": [],
   "source": [
    "import pandas as pd\n",
    "import os\n",
    "import time\n",
    "import numpy as np\n",
    "import pandas as pd\n",
    "import matplotlib.pyplot as plt\n",
    "from sklearn import linear_model\n",
    "from sklearn.model_selection import train_test_split\n",
    "from sklearn.metrics import accuracy_score, roc_curve, auc\n",
    "from sklearn.metrics import roc_auc_score\n",
    "from sklearn.metrics import confusion_matrix\n",
    "from sklearn.metrics import make_scorer, precision_score, recall_score\n",
    "from sklearn.feature_selection import SequentialFeatureSelector\n",
    "from sklearn.preprocessing import StandardScaler\n",
    "from sklearn.pipeline import make_pipeline\n",
    "from sklearn.tree import DecisionTreeClassifier,plot_tree\n",
    "from sklearn.ensemble import RandomForestClassifier\n",
    "from sklearn.ensemble import GradientBoostingClassifier\n",
    "from sklearn.linear_model import LogisticRegression\n",
    "from sklearn.model_selection import cross_validate\n",
    "from sklearn.model_selection import GridSearchCV\n",
    "from sklearn.tree import export_graphviz,export_text\n",
    "from subprocess import call"
   ]
  },
  {
   "cell_type": "code",
   "execution_count": 2,
   "id": "dcee6095",
   "metadata": {},
   "outputs": [
    {
     "name": "stderr",
     "output_type": "stream",
     "text": [
      "C:\\Users\\bodin\\AppData\\Local\\Temp\\ipykernel_1936\\3797462861.py:11: DtypeWarning: Columns (3) have mixed types. Specify dtype option on import or set low_memory=False.\n",
      "  lieux = pd.read_csv(chemin_lieux, delimiter=';', encoding='ISO-8859-1', usecols=lambda x: x != 'Unnamed: 0')\n",
      "C:\\Users\\bodin\\AppData\\Local\\Temp\\ipykernel_1936\\3797462861.py:11: DtypeWarning: Columns (3) have mixed types. Specify dtype option on import or set low_memory=False.\n",
      "  lieux = pd.read_csv(chemin_lieux, delimiter=';', encoding='ISO-8859-1', usecols=lambda x: x != 'Unnamed: 0')\n",
      "C:\\Users\\bodin\\AppData\\Local\\Temp\\ipykernel_1936\\3797462861.py:11: DtypeWarning: Columns (3) have mixed types. Specify dtype option on import or set low_memory=False.\n",
      "  lieux = pd.read_csv(chemin_lieux, delimiter=';', encoding='ISO-8859-1', usecols=lambda x: x != 'Unnamed: 0')\n",
      "C:\\Users\\bodin\\AppData\\Local\\Temp\\ipykernel_1936\\3797462861.py:11: DtypeWarning: Columns (7) have mixed types. Specify dtype option on import or set low_memory=False.\n",
      "  lieux = pd.read_csv(chemin_lieux, delimiter=';', encoding='ISO-8859-1', usecols=lambda x: x != 'Unnamed: 0')\n"
     ]
    }
   ],
   "source": [
    "dataframes = []\n",
    "dossier = \"Data/\"\n",
    "\n",
    "for annee in range(2012, 2023):\n",
    "    chemin_caracteristiques = os.path.join(dossier, f\"BAAC-Annee-{annee}/caracteristiques_{annee}_.csv\")\n",
    "    chemin_lieux = os.path.join(dossier, f\"BAAC-Annee-{annee}/lieux_{annee}_.csv\")\n",
    "    chemin_usagers = os.path.join(dossier, f\"BAAC-Annee-{annee}/usagers_{annee}_.csv\")\n",
    "    chemin_vehicules = os.path.join(dossier, f\"BAAC-Annee-{annee}/vehicules_{annee}_.csv\")\n",
    "    \n",
    "    carac = pd.read_csv(chemin_caracteristiques, delimiter=';', encoding='ISO-8859-1', usecols=lambda x: x != 'Unnamed: 0')\n",
    "    lieux = pd.read_csv(chemin_lieux, delimiter=';', encoding='ISO-8859-1', usecols=lambda x: x != 'Unnamed: 0')\n",
    "    usagers = pd.read_csv(chemin_usagers, delimiter=';', encoding='ISO-8859-1', usecols=lambda x: x != 'Unnamed: 0')\n",
    "    vehicules = pd.read_csv(chemin_vehicules, delimiter=';', encoding='ISO-8859-1', usecols=lambda x: x != 'Unnamed: 0')\n",
    "    \n",
    "    df = pd.merge(carac, lieux, on=\"Num_Acc\")\n",
    "    df = pd.merge(df, vehicules, on=\"Num_Acc\")\n",
    "    df = pd.merge(df, usagers, on=\"Num_Acc\")\n",
    "    \n",
    "    dataframes.append(df)\n",
    "\n",
    "df_final = pd.concat(dataframes, ignore_index=True)"
   ]
  },
  {
   "cell_type": "code",
   "execution_count": 3,
   "id": "109e1019",
   "metadata": {},
   "outputs": [],
   "source": [
    "data_1 = df_final"
   ]
  },
  {
   "cell_type": "code",
   "execution_count": 4,
   "id": "b58aa97b",
   "metadata": {},
   "outputs": [],
   "source": [
    "data_1['hrmn'] = data_1['hrmn'].astype(str).str.replace(':', '')\n",
    "\n",
    "def map_hours_to_category(hour):\n",
    "    if 0 <= hour < 600:\n",
    "        return 0\n",
    "    elif 600 <= hour < 1200:\n",
    "        return 1\n",
    "    elif 1200 <= hour < 1800:\n",
    "        return 2\n",
    "    else:\n",
    "        return 3\n",
    "data_1['hrmn'] = data_1['hrmn'].astype(int)   \n",
    "data_1['hrmn'] = data_1['hrmn'].apply(map_hours_to_category)"
   ]
  },
  {
   "cell_type": "code",
   "execution_count": 5,
   "id": "3c2945f4",
   "metadata": {},
   "outputs": [
    {
     "data": {
      "text/plain": [
       "array([3, 2, 0, 1], dtype=int64)"
      ]
     },
     "execution_count": 5,
     "metadata": {},
     "output_type": "execute_result"
    }
   ],
   "source": [
    "data_1['hrmn'].unique()"
   ]
  },
  {
   "cell_type": "code",
   "execution_count": 6,
   "id": "2ab93be9",
   "metadata": {},
   "outputs": [],
   "source": [
    "data_1['grav'] = data_1['grav'].replace({1: 0, 4: 0, 2: 1, 3: 1})"
   ]
  },
  {
   "cell_type": "code",
   "execution_count": 7,
   "id": "e6de18e0",
   "metadata": {},
   "outputs": [],
   "source": [
    "cols_to_drop = ['mois','jour', 'com','dep', 'adr', 'gps', 'lat', 'long', 'voie', 'v1', 'v2', 'pr', 'pr1', 'num_veh_x', 'id_vehicule_x','id_vehicule_y','num_veh_y', 'id_usager','motor','secu2','secu3']\n",
    "data_1.drop(columns=cols_to_drop, inplace=True)"
   ]
  },
  {
   "cell_type": "code",
   "execution_count": 8,
   "id": "d6352681",
   "metadata": {},
   "outputs": [],
   "source": [
    "data_1['age_conducteur'] = data_1['an'] - data_1['an_nais']\n",
    "\n",
    "def categorize_age(age):\n",
    "    if pd.isna(age):\n",
    "        return -1\n",
    "    elif age <= 20:\n",
    "        return 1\n",
    "    elif 21 <= age <= 40:\n",
    "        return 2\n",
    "    elif 41 <= age <= 65:\n",
    "        return 3\n",
    "    elif age > 65:\n",
    "        return 4\n",
    "    else:\n",
    "        return -1 \n",
    "\n",
    "data_1['age_conducteur'] = data_1['age_conducteur'].apply(categorize_age)"
   ]
  },
  {
   "cell_type": "code",
   "execution_count": 9,
   "id": "0ec3b033",
   "metadata": {},
   "outputs": [],
   "source": [
    "data_1.drop(columns=['an', 'an_nais'], inplace=True)"
   ]
  },
  {
   "cell_type": "code",
   "execution_count": 10,
   "id": "7ba0ade8",
   "metadata": {},
   "outputs": [],
   "source": [
    "def combine_secu(secu, secu1):\n",
    "    base_protection = {1, 2}\n",
    "    child_protection = {3}\n",
    "    advanced_protection = {4, 5, 6, 7}\n",
    "    \n",
    "    secu_set = {secu, secu1}\n",
    "    \n",
    "    if secu_set.intersection({-1, 0}):  \n",
    "        return -1  \n",
    "    elif secu_set.intersection(base_protection):\n",
    "        return 1  \n",
    "    elif secu_set.intersection(child_protection):\n",
    "        return 2  \n",
    "    elif secu_set.intersection(advanced_protection):\n",
    "        return 3  \n",
    "    else:\n",
    "        return -1 \n",
    "\n",
    "data_1['secu_combined'] = data_1.apply(lambda row: combine_secu(row['secu'], row['secu1']), axis=1)"
   ]
  },
  {
   "cell_type": "code",
   "execution_count": 11,
   "id": "961c296b",
   "metadata": {},
   "outputs": [],
   "source": [
    "data_1.drop(columns=['secu', 'secu1'], inplace=True)"
   ]
  },
  {
   "cell_type": "code",
   "execution_count": 12,
   "id": "970e5848",
   "metadata": {},
   "outputs": [],
   "source": [
    "def categorize_catv(catv):\n",
    "    if pd.isna(catv):\n",
    "        return -1  \n",
    "    if catv in {1, 30, 31, 32, 33, 34, 41, 42, 43}:\n",
    "        return 1  # Bicyclettes et deux roues\n",
    "    if catv in {2, 3, 7, 10, 11, 12}:\n",
    "        return 2  # Voitures et voitures légères\n",
    "    if catv in {13, 14, 15, 16, 17, 18, 20, 21}:\n",
    "        return 3  # Véhicules lourds\n",
    "    if catv in {37, 38, 39, 40}:\n",
    "        return 4  # Transports en commun\n",
    "    if catv in {50, 60, 80, 99}:\n",
    "        return 5  # Engins spéciaux et autres\n",
    "    return -1 \n",
    "data_1['catv'] = data_1['catv'].apply(categorize_catv)"
   ]
  },
  {
   "cell_type": "code",
   "execution_count": 13,
   "id": "80dd94d5",
   "metadata": {},
   "outputs": [],
   "source": [
    "#data_1['age_conducteur'] = data_1['age_conducteur'].astype('object')\n",
    "#data_1['secu_combined'] = data_1['secu_combined'].astype('object')"
   ]
  },
  {
   "cell_type": "code",
   "execution_count": 14,
   "id": "a7fc1074",
   "metadata": {},
   "outputs": [],
   "source": [
    "def fill_vma(row):\n",
    "    if pd.isna(row['vma']):\n",
    "        if row['catr'] == 1:\n",
    "            return 130  # Autoroute\n",
    "        elif row['catr'] == 2 or row['catr'] == 3:\n",
    "            return 80  # Route nationale ou départementale\n",
    "        elif row['catr'] == 4 or row['catr'] == 5 or row['catr'] == 9:\n",
    "            return 50  # Voie communale, Hors réseau public, Autre\n",
    "        elif row['catr'] == 6:\n",
    "            return 30  # Parc de stationnement\n",
    "        elif row['catr'] == 7:\n",
    "            return 50  # Routes de métropole urbaine\n",
    "        else:\n",
    "            return 50  # Valeur par défaut si catr non spécifié\n",
    "    else:\n",
    "        return row['vma']\n",
    "\n",
    "data_1['vma'] = data_1.apply(fill_vma, axis=1)"
   ]
  },
  {
   "cell_type": "code",
   "execution_count": 15,
   "id": "56b95878",
   "metadata": {},
   "outputs": [],
   "source": [
    "def fill_and_correct_vma(row):\n",
    "    speed_limits = {\n",
    "        1: 130,  # Autoroute\n",
    "        2: 80,   # Route nationale\n",
    "        3: 80,   # Route départementale\n",
    "        4: 50,   # Voie communale\n",
    "        5: 50,   # Hors réseau public\n",
    "        6: 30,   # Parc de stationnement\n",
    "        7: 50,   # Routes de métropole urbaine\n",
    "        9: 50    # Autre\n",
    "    }\n",
    "\n",
    "    if pd.isna(row['vma']) or row['vma'] > 130 or row['vma'] < 0:\n",
    "        return speed_limits.get(row['catr'], 50)\n",
    "    else:\n",
    "        if row['vma'] not in speed_limits.values():\n",
    "            return speed_limits.get(row['catr'], 50)  \n",
    "        else:\n",
    "            return row['vma']\n",
    "\n",
    "data_1['vma'] = data_1.apply(fill_and_correct_vma, axis=1)"
   ]
  },
  {
   "cell_type": "code",
   "execution_count": 16,
   "id": "14f7aa80",
   "metadata": {},
   "outputs": [],
   "source": [
    "data_1['nbv'] = pd.to_numeric(data_1['nbv'].astype(str).str.strip(), errors='coerce')\n",
    "data_1['nbv'] = data_1['nbv'].fillna(-1).astype(int)\n",
    "data_1['nbv'] = data_1['nbv'].apply(lambda x: x if x >= 0 else -1)"
   ]
  },
  {
   "cell_type": "code",
   "execution_count": 17,
   "id": "fa33dc4b",
   "metadata": {},
   "outputs": [],
   "source": [
    "def fill_occutc(row):\n",
    "    if pd.isna(row['occutc']):\n",
    "        if row['catv'] in {1, 5}:\n",
    "            return 1\n",
    "        else:\n",
    "            return mean_occupants.get(row['catv'], -1) \n",
    "    else:\n",
    "        return row['occutc']\n",
    "\n",
    "mean_occupants = {\n",
    "    cat: data_1[data_1['catv'] == cat]['occutc'].mean()\n",
    "    for cat in data_1['catv'].unique() if cat not in {1, 5}\n",
    "}\n",
    "\n",
    "data_1['occutc'] = data_1.apply(fill_occutc, axis=1)"
   ]
  },
  {
   "cell_type": "code",
   "execution_count": 18,
   "id": "bcb14068",
   "metadata": {},
   "outputs": [],
   "source": [
    "data_1.drop(columns=['lartpc', 'larrout','env1','place'], inplace=True)"
   ]
  },
  {
   "cell_type": "code",
   "execution_count": 19,
   "id": "ac2c4284",
   "metadata": {},
   "outputs": [],
   "source": [
    "cols_to_fill = ['atm', 'col', 'circ', 'vosp', 'prof', 'plan', 'surf', 'infra', 'situ','senc', 'occutc', 'obs', 'obsm', 'choc', 'manv', 'trajet', 'locp', 'etatp', 'actp']\n",
    "data_1[cols_to_fill] = data_1[cols_to_fill].fillna(-1)"
   ]
  },
  {
   "cell_type": "code",
   "execution_count": 20,
   "id": "2c5b62a3",
   "metadata": {},
   "outputs": [],
   "source": [
    "def clean_actp(value):\n",
    "    if value in ['B', 0, '0', ' -1', -1]:\n",
    "        return -1\n",
    "    elif value == 'A':\n",
    "        return 10\n",
    "    else:\n",
    "        try:\n",
    "            return int(value)  \n",
    "        except:\n",
    "            return -1 \n",
    "\n",
    "data_1['actp'] = data_1['actp'].apply(clean_actp)"
   ]
  },
  {
   "cell_type": "code",
   "execution_count": 21,
   "id": "717d7c6f",
   "metadata": {},
   "outputs": [
    {
     "data": {
      "text/html": [
       "<div>\n",
       "<style scoped>\n",
       "    .dataframe tbody tr th:only-of-type {\n",
       "        vertical-align: middle;\n",
       "    }\n",
       "\n",
       "    .dataframe tbody tr th {\n",
       "        vertical-align: top;\n",
       "    }\n",
       "\n",
       "    .dataframe thead th {\n",
       "        text-align: right;\n",
       "    }\n",
       "</style>\n",
       "<table border=\"1\" class=\"dataframe\">\n",
       "  <thead>\n",
       "    <tr style=\"text-align: right;\">\n",
       "      <th></th>\n",
       "      <th>Num_Acc</th>\n",
       "      <th>hrmn</th>\n",
       "      <th>lum</th>\n",
       "      <th>agg</th>\n",
       "      <th>int</th>\n",
       "      <th>atm</th>\n",
       "      <th>col</th>\n",
       "      <th>catr</th>\n",
       "      <th>circ</th>\n",
       "      <th>nbv</th>\n",
       "      <th>...</th>\n",
       "      <th>catu</th>\n",
       "      <th>grav</th>\n",
       "      <th>sexe</th>\n",
       "      <th>trajet</th>\n",
       "      <th>locp</th>\n",
       "      <th>actp</th>\n",
       "      <th>etatp</th>\n",
       "      <th>vma</th>\n",
       "      <th>age_conducteur</th>\n",
       "      <th>secu_combined</th>\n",
       "    </tr>\n",
       "  </thead>\n",
       "  <tbody>\n",
       "    <tr>\n",
       "      <th>0</th>\n",
       "      <td>201200000001</td>\n",
       "      <td>3</td>\n",
       "      <td>5</td>\n",
       "      <td>2</td>\n",
       "      <td>1</td>\n",
       "      <td>1.0</td>\n",
       "      <td>6.0</td>\n",
       "      <td>3</td>\n",
       "      <td>2.0</td>\n",
       "      <td>0</td>\n",
       "      <td>...</td>\n",
       "      <td>1</td>\n",
       "      <td>0</td>\n",
       "      <td>2</td>\n",
       "      <td>5.0</td>\n",
       "      <td>0.0</td>\n",
       "      <td>-1</td>\n",
       "      <td>0.0</td>\n",
       "      <td>80.0</td>\n",
       "      <td>1</td>\n",
       "      <td>-1</td>\n",
       "    </tr>\n",
       "    <tr>\n",
       "      <th>1</th>\n",
       "      <td>201200000001</td>\n",
       "      <td>3</td>\n",
       "      <td>5</td>\n",
       "      <td>2</td>\n",
       "      <td>1</td>\n",
       "      <td>1.0</td>\n",
       "      <td>6.0</td>\n",
       "      <td>3</td>\n",
       "      <td>2.0</td>\n",
       "      <td>0</td>\n",
       "      <td>...</td>\n",
       "      <td>3</td>\n",
       "      <td>0</td>\n",
       "      <td>1</td>\n",
       "      <td>5.0</td>\n",
       "      <td>3.0</td>\n",
       "      <td>3</td>\n",
       "      <td>2.0</td>\n",
       "      <td>80.0</td>\n",
       "      <td>1</td>\n",
       "      <td>-1</td>\n",
       "    </tr>\n",
       "    <tr>\n",
       "      <th>2</th>\n",
       "      <td>201200000002</td>\n",
       "      <td>3</td>\n",
       "      <td>5</td>\n",
       "      <td>2</td>\n",
       "      <td>1</td>\n",
       "      <td>1.0</td>\n",
       "      <td>3.0</td>\n",
       "      <td>3</td>\n",
       "      <td>2.0</td>\n",
       "      <td>2</td>\n",
       "      <td>...</td>\n",
       "      <td>1</td>\n",
       "      <td>0</td>\n",
       "      <td>1</td>\n",
       "      <td>5.0</td>\n",
       "      <td>0.0</td>\n",
       "      <td>-1</td>\n",
       "      <td>0.0</td>\n",
       "      <td>80.0</td>\n",
       "      <td>1</td>\n",
       "      <td>-1</td>\n",
       "    </tr>\n",
       "    <tr>\n",
       "      <th>3</th>\n",
       "      <td>201200000002</td>\n",
       "      <td>3</td>\n",
       "      <td>5</td>\n",
       "      <td>2</td>\n",
       "      <td>1</td>\n",
       "      <td>1.0</td>\n",
       "      <td>3.0</td>\n",
       "      <td>3</td>\n",
       "      <td>2.0</td>\n",
       "      <td>2</td>\n",
       "      <td>...</td>\n",
       "      <td>2</td>\n",
       "      <td>0</td>\n",
       "      <td>1</td>\n",
       "      <td>0.0</td>\n",
       "      <td>0.0</td>\n",
       "      <td>-1</td>\n",
       "      <td>0.0</td>\n",
       "      <td>80.0</td>\n",
       "      <td>1</td>\n",
       "      <td>-1</td>\n",
       "    </tr>\n",
       "    <tr>\n",
       "      <th>4</th>\n",
       "      <td>201200000002</td>\n",
       "      <td>3</td>\n",
       "      <td>5</td>\n",
       "      <td>2</td>\n",
       "      <td>1</td>\n",
       "      <td>1.0</td>\n",
       "      <td>3.0</td>\n",
       "      <td>3</td>\n",
       "      <td>2.0</td>\n",
       "      <td>2</td>\n",
       "      <td>...</td>\n",
       "      <td>1</td>\n",
       "      <td>0</td>\n",
       "      <td>1</td>\n",
       "      <td>5.0</td>\n",
       "      <td>0.0</td>\n",
       "      <td>-1</td>\n",
       "      <td>0.0</td>\n",
       "      <td>80.0</td>\n",
       "      <td>1</td>\n",
       "      <td>-1</td>\n",
       "    </tr>\n",
       "  </tbody>\n",
       "</table>\n",
       "<p>5 rows × 33 columns</p>\n",
       "</div>"
      ],
      "text/plain": [
       "        Num_Acc  hrmn  lum  agg  int  atm  col  catr  circ  nbv  ...  catu  \\\n",
       "0  201200000001     3    5    2    1  1.0  6.0     3   2.0    0  ...     1   \n",
       "1  201200000001     3    5    2    1  1.0  6.0     3   2.0    0  ...     3   \n",
       "2  201200000002     3    5    2    1  1.0  3.0     3   2.0    2  ...     1   \n",
       "3  201200000002     3    5    2    1  1.0  3.0     3   2.0    2  ...     2   \n",
       "4  201200000002     3    5    2    1  1.0  3.0     3   2.0    2  ...     1   \n",
       "\n",
       "   grav  sexe  trajet  locp  actp  etatp   vma  age_conducteur  secu_combined  \n",
       "0     0     2     5.0   0.0    -1    0.0  80.0               1             -1  \n",
       "1     0     1     5.0   3.0     3    2.0  80.0               1             -1  \n",
       "2     0     1     5.0   0.0    -1    0.0  80.0               1             -1  \n",
       "3     0     1     0.0   0.0    -1    0.0  80.0               1             -1  \n",
       "4     0     1     5.0   0.0    -1    0.0  80.0               1             -1  \n",
       "\n",
       "[5 rows x 33 columns]"
      ]
     },
     "execution_count": 21,
     "metadata": {},
     "output_type": "execute_result"
    }
   ],
   "source": [
    "data_1.head()"
   ]
  },
  {
   "cell_type": "code",
   "execution_count": 22,
   "id": "e4b46c19",
   "metadata": {},
   "outputs": [
    {
     "name": "stdout",
     "output_type": "stream",
     "text": [
      "<class 'pandas.core.frame.DataFrame'>\n",
      "RangeIndex: 2437087 entries, 0 to 2437086\n",
      "Data columns (total 33 columns):\n",
      " #   Column          Dtype  \n",
      "---  ------          -----  \n",
      " 0   Num_Acc         int64  \n",
      " 1   hrmn            int64  \n",
      " 2   lum             int64  \n",
      " 3   agg             int64  \n",
      " 4   int             int64  \n",
      " 5   atm             float64\n",
      " 6   col             float64\n",
      " 7   catr            int64  \n",
      " 8   circ            float64\n",
      " 9   nbv             int64  \n",
      " 10  vosp            float64\n",
      " 11  prof            float64\n",
      " 12  plan            float64\n",
      " 13  surf            float64\n",
      " 14  infra           float64\n",
      " 15  situ            float64\n",
      " 16  senc            float64\n",
      " 17  catv            int64  \n",
      " 18  occutc          float64\n",
      " 19  obs             float64\n",
      " 20  obsm            float64\n",
      " 21  choc            float64\n",
      " 22  manv            float64\n",
      " 23  catu            int64  \n",
      " 24  grav            int64  \n",
      " 25  sexe            int64  \n",
      " 26  trajet          float64\n",
      " 27  locp            float64\n",
      " 28  actp            int64  \n",
      " 29  etatp           float64\n",
      " 30  vma             float64\n",
      " 31  age_conducteur  int64  \n",
      " 32  secu_combined   int64  \n",
      "dtypes: float64(19), int64(14)\n",
      "memory usage: 613.6 MB\n"
     ]
    }
   ],
   "source": [
    "data_1.info()"
   ]
  },
  {
   "cell_type": "code",
   "execution_count": 63,
   "id": "b34d4bf9",
   "metadata": {},
   "outputs": [],
   "source": [
    "max_cols = ['hrmn', 'vma', 'age_conducteur', 'occutc', 'catu','nbv','grav']\n",
    "mode_cols = ['lum', 'agg', 'int', 'atm', 'col', 'circ', 'vosp', 'prof', 'plan', 'surf', 'infra', 'situ', 'obs', 'obsm', 'manv', 'trajet', 'locp', 'etatp', 'actp']\n",
    "target_cols = ['catv', 'col','vosp','senc', 'choc', 'secu_combined', 'sexe']"
   ]
  },
  {
   "cell_type": "code",
   "execution_count": 64,
   "id": "5e15228f",
   "metadata": {},
   "outputs": [],
   "source": [
    "def process_duplicates(df, target_cols, max_cols, mode_cols):\n",
    "    grouped = df.groupby('Num_Acc')\n",
    "    processed_data = []\n",
    "\n",
    "    for _, group in grouped:\n",
    "        processed_row = {}\n",
    "        for col in df.columns:\n",
    "            if col in max_cols:\n",
    "                processed_row[col] = group[col].max()\n",
    "            elif col in mode_cols:\n",
    "                mode_values = group[col].mode()\n",
    "                processed_row[col] = mode_values[0] if not mode_values.empty else -1\n",
    "            elif col in target_cols:\n",
    "                if 1 in group[col].values:\n",
    "                    processed_row[col] = 1\n",
    "                else:\n",
    "                    mode_values = group[col].mode()\n",
    "                    processed_row[col] = mode_values[0] if not mode_values.empty else -1\n",
    "            else:\n",
    "                processed_row[col] = group[col].iloc[0]\n",
    "\n",
    "        processed_data.append(processed_row)\n",
    "\n",
    "    processed_df = pd.DataFrame(processed_data)\n",
    "    return processed_df"
   ]
  },
  {
   "cell_type": "markdown",
   "id": "b3b5414d",
   "metadata": {},
   "source": [
    "Attention 17 min pour run ca "
   ]
  },
  {
   "cell_type": "code",
   "execution_count": 65,
   "id": "77056bee",
   "metadata": {},
   "outputs": [],
   "source": [
    "processed_df = process_duplicates(data_1, target_cols=target_cols, max_cols=max_cols, mode_cols=mode_cols)"
   ]
  },
  {
   "cell_type": "code",
   "execution_count": 66,
   "id": "697638a0",
   "metadata": {},
   "outputs": [
    {
     "data": {
      "text/plain": [
       "array([0, 1], dtype=int64)"
      ]
     },
     "execution_count": 66,
     "metadata": {},
     "output_type": "execute_result"
    }
   ],
   "source": [
    "processed_df['grav'].unique()"
   ]
  },
  {
   "cell_type": "code",
   "execution_count": 68,
   "id": "40e0ac00",
   "metadata": {},
   "outputs": [
    {
     "data": {
      "text/html": [
       "<div>\n",
       "<style scoped>\n",
       "    .dataframe tbody tr th:only-of-type {\n",
       "        vertical-align: middle;\n",
       "    }\n",
       "\n",
       "    .dataframe tbody tr th {\n",
       "        vertical-align: top;\n",
       "    }\n",
       "\n",
       "    .dataframe thead th {\n",
       "        text-align: right;\n",
       "    }\n",
       "</style>\n",
       "<table border=\"1\" class=\"dataframe\">\n",
       "  <thead>\n",
       "    <tr style=\"text-align: right;\">\n",
       "      <th></th>\n",
       "      <th>Num_Acc</th>\n",
       "      <th>hrmn</th>\n",
       "      <th>lum</th>\n",
       "      <th>agg</th>\n",
       "      <th>int</th>\n",
       "      <th>atm</th>\n",
       "      <th>col</th>\n",
       "      <th>catr</th>\n",
       "      <th>circ</th>\n",
       "      <th>nbv</th>\n",
       "      <th>...</th>\n",
       "      <th>catu</th>\n",
       "      <th>grav</th>\n",
       "      <th>sexe</th>\n",
       "      <th>trajet</th>\n",
       "      <th>locp</th>\n",
       "      <th>actp</th>\n",
       "      <th>etatp</th>\n",
       "      <th>vma</th>\n",
       "      <th>age_conducteur</th>\n",
       "      <th>secu_combined</th>\n",
       "    </tr>\n",
       "  </thead>\n",
       "  <tbody>\n",
       "    <tr>\n",
       "      <th>0</th>\n",
       "      <td>201200000001</td>\n",
       "      <td>3</td>\n",
       "      <td>5</td>\n",
       "      <td>2</td>\n",
       "      <td>1</td>\n",
       "      <td>1.0</td>\n",
       "      <td>6.0</td>\n",
       "      <td>3</td>\n",
       "      <td>2.0</td>\n",
       "      <td>0</td>\n",
       "      <td>...</td>\n",
       "      <td>3</td>\n",
       "      <td>0</td>\n",
       "      <td>1</td>\n",
       "      <td>5.0</td>\n",
       "      <td>0.0</td>\n",
       "      <td>-1</td>\n",
       "      <td>0.0</td>\n",
       "      <td>80.0</td>\n",
       "      <td>1</td>\n",
       "      <td>-1</td>\n",
       "    </tr>\n",
       "    <tr>\n",
       "      <th>1</th>\n",
       "      <td>201200000002</td>\n",
       "      <td>3</td>\n",
       "      <td>5</td>\n",
       "      <td>2</td>\n",
       "      <td>1</td>\n",
       "      <td>1.0</td>\n",
       "      <td>3.0</td>\n",
       "      <td>3</td>\n",
       "      <td>2.0</td>\n",
       "      <td>2</td>\n",
       "      <td>...</td>\n",
       "      <td>2</td>\n",
       "      <td>1</td>\n",
       "      <td>1</td>\n",
       "      <td>0.0</td>\n",
       "      <td>0.0</td>\n",
       "      <td>-1</td>\n",
       "      <td>0.0</td>\n",
       "      <td>80.0</td>\n",
       "      <td>1</td>\n",
       "      <td>-1</td>\n",
       "    </tr>\n",
       "    <tr>\n",
       "      <th>2</th>\n",
       "      <td>201200000003</td>\n",
       "      <td>3</td>\n",
       "      <td>5</td>\n",
       "      <td>2</td>\n",
       "      <td>1</td>\n",
       "      <td>1.0</td>\n",
       "      <td>5.0</td>\n",
       "      <td>3</td>\n",
       "      <td>2.0</td>\n",
       "      <td>2</td>\n",
       "      <td>...</td>\n",
       "      <td>2</td>\n",
       "      <td>1</td>\n",
       "      <td>1</td>\n",
       "      <td>5.0</td>\n",
       "      <td>0.0</td>\n",
       "      <td>-1</td>\n",
       "      <td>0.0</td>\n",
       "      <td>80.0</td>\n",
       "      <td>1</td>\n",
       "      <td>-1</td>\n",
       "    </tr>\n",
       "    <tr>\n",
       "      <th>3</th>\n",
       "      <td>201200000004</td>\n",
       "      <td>3</td>\n",
       "      <td>5</td>\n",
       "      <td>2</td>\n",
       "      <td>1</td>\n",
       "      <td>1.0</td>\n",
       "      <td>3.0</td>\n",
       "      <td>3</td>\n",
       "      <td>2.0</td>\n",
       "      <td>2</td>\n",
       "      <td>...</td>\n",
       "      <td>2</td>\n",
       "      <td>0</td>\n",
       "      <td>1</td>\n",
       "      <td>5.0</td>\n",
       "      <td>0.0</td>\n",
       "      <td>-1</td>\n",
       "      <td>0.0</td>\n",
       "      <td>80.0</td>\n",
       "      <td>1</td>\n",
       "      <td>-1</td>\n",
       "    </tr>\n",
       "    <tr>\n",
       "      <th>4</th>\n",
       "      <td>201200000006</td>\n",
       "      <td>3</td>\n",
       "      <td>5</td>\n",
       "      <td>2</td>\n",
       "      <td>1</td>\n",
       "      <td>1.0</td>\n",
       "      <td>6.0</td>\n",
       "      <td>4</td>\n",
       "      <td>2.0</td>\n",
       "      <td>0</td>\n",
       "      <td>...</td>\n",
       "      <td>3</td>\n",
       "      <td>0</td>\n",
       "      <td>1</td>\n",
       "      <td>5.0</td>\n",
       "      <td>0.0</td>\n",
       "      <td>-1</td>\n",
       "      <td>0.0</td>\n",
       "      <td>50.0</td>\n",
       "      <td>1</td>\n",
       "      <td>1</td>\n",
       "    </tr>\n",
       "  </tbody>\n",
       "</table>\n",
       "<p>5 rows × 33 columns</p>\n",
       "</div>"
      ],
      "text/plain": [
       "        Num_Acc  hrmn  lum  agg  int  atm  col  catr  circ  nbv  ...  catu  \\\n",
       "0  201200000001     3    5    2    1  1.0  6.0     3   2.0    0  ...     3   \n",
       "1  201200000002     3    5    2    1  1.0  3.0     3   2.0    2  ...     2   \n",
       "2  201200000003     3    5    2    1  1.0  5.0     3   2.0    2  ...     2   \n",
       "3  201200000004     3    5    2    1  1.0  3.0     3   2.0    2  ...     2   \n",
       "4  201200000006     3    5    2    1  1.0  6.0     4   2.0    0  ...     3   \n",
       "\n",
       "   grav  sexe  trajet  locp  actp  etatp   vma  age_conducteur  secu_combined  \n",
       "0     0     1     5.0   0.0    -1    0.0  80.0               1             -1  \n",
       "1     1     1     0.0   0.0    -1    0.0  80.0               1             -1  \n",
       "2     1     1     5.0   0.0    -1    0.0  80.0               1             -1  \n",
       "3     0     1     5.0   0.0    -1    0.0  80.0               1             -1  \n",
       "4     0     1     5.0   0.0    -1    0.0  50.0               1              1  \n",
       "\n",
       "[5 rows x 33 columns]"
      ]
     },
     "execution_count": 68,
     "metadata": {},
     "output_type": "execute_result"
    }
   ],
   "source": [
    "processed_df.head()"
   ]
  },
  {
   "cell_type": "code",
   "execution_count": 69,
   "id": "c496daaa",
   "metadata": {},
   "outputs": [],
   "source": [
    "processed_df = processed_df.drop_duplicates()"
   ]
  },
  {
   "cell_type": "markdown",
   "id": "b49fe077",
   "metadata": {},
   "source": [
    "DUMMIESSSSS"
   ]
  },
  {
   "cell_type": "code",
   "execution_count": 29,
   "id": "d77f28b5",
   "metadata": {},
   "outputs": [],
   "source": [
    "columns_to_convert = ['hrmn','agg','lum','int','atm','col','catr','circ','vosp','prof','plan','surf','infra','situ',\n",
    "                      'senc','catv','obs','obsm','choc','manv','catu','sexe','trajet','vma','locp','actp','etatp',\n",
    "                      'age_conducteur','secu_combined']\n",
    "\n",
    "df_dummies = pd.get_dummies(data_1, columns=columns_to_convert, drop_first=True)"
   ]
  },
  {
   "cell_type": "markdown",
   "id": "436c24b1",
   "metadata": {},
   "source": [
    "SUBSET FORWARD SELECTION"
   ]
  },
  {
   "cell_type": "code",
   "execution_count": 91,
   "id": "18cd36ab",
   "metadata": {},
   "outputs": [],
   "source": [
    "sampled_data = processed_df.sample(n=60000, random_state=42)\n",
    "\n",
    "X = sampled_data.drop(columns=['grav'])\n",
    "y = sampled_data['grav']"
   ]
  },
  {
   "cell_type": "code",
   "execution_count": 92,
   "id": "8ff93514",
   "metadata": {},
   "outputs": [],
   "source": [
    "from sklearn.linear_model import Lasso"
   ]
  },
  {
   "cell_type": "code",
   "execution_count": 93,
   "id": "34b52045",
   "metadata": {},
   "outputs": [
    {
     "data": {
      "text/html": [
       "<style>#sk-container-id-5 {color: black;}#sk-container-id-5 pre{padding: 0;}#sk-container-id-5 div.sk-toggleable {background-color: white;}#sk-container-id-5 label.sk-toggleable__label {cursor: pointer;display: block;width: 100%;margin-bottom: 0;padding: 0.3em;box-sizing: border-box;text-align: center;}#sk-container-id-5 label.sk-toggleable__label-arrow:before {content: \"▸\";float: left;margin-right: 0.25em;color: #696969;}#sk-container-id-5 label.sk-toggleable__label-arrow:hover:before {color: black;}#sk-container-id-5 div.sk-estimator:hover label.sk-toggleable__label-arrow:before {color: black;}#sk-container-id-5 div.sk-toggleable__content {max-height: 0;max-width: 0;overflow: hidden;text-align: left;background-color: #f0f8ff;}#sk-container-id-5 div.sk-toggleable__content pre {margin: 0.2em;color: black;border-radius: 0.25em;background-color: #f0f8ff;}#sk-container-id-5 input.sk-toggleable__control:checked~div.sk-toggleable__content {max-height: 200px;max-width: 100%;overflow: auto;}#sk-container-id-5 input.sk-toggleable__control:checked~label.sk-toggleable__label-arrow:before {content: \"▾\";}#sk-container-id-5 div.sk-estimator input.sk-toggleable__control:checked~label.sk-toggleable__label {background-color: #d4ebff;}#sk-container-id-5 div.sk-label input.sk-toggleable__control:checked~label.sk-toggleable__label {background-color: #d4ebff;}#sk-container-id-5 input.sk-hidden--visually {border: 0;clip: rect(1px 1px 1px 1px);clip: rect(1px, 1px, 1px, 1px);height: 1px;margin: -1px;overflow: hidden;padding: 0;position: absolute;width: 1px;}#sk-container-id-5 div.sk-estimator {font-family: monospace;background-color: #f0f8ff;border: 1px dotted black;border-radius: 0.25em;box-sizing: border-box;margin-bottom: 0.5em;}#sk-container-id-5 div.sk-estimator:hover {background-color: #d4ebff;}#sk-container-id-5 div.sk-parallel-item::after {content: \"\";width: 100%;border-bottom: 1px solid gray;flex-grow: 1;}#sk-container-id-5 div.sk-label:hover label.sk-toggleable__label {background-color: #d4ebff;}#sk-container-id-5 div.sk-serial::before {content: \"\";position: absolute;border-left: 1px solid gray;box-sizing: border-box;top: 0;bottom: 0;left: 50%;z-index: 0;}#sk-container-id-5 div.sk-serial {display: flex;flex-direction: column;align-items: center;background-color: white;padding-right: 0.2em;padding-left: 0.2em;position: relative;}#sk-container-id-5 div.sk-item {position: relative;z-index: 1;}#sk-container-id-5 div.sk-parallel {display: flex;align-items: stretch;justify-content: center;background-color: white;position: relative;}#sk-container-id-5 div.sk-item::before, #sk-container-id-5 div.sk-parallel-item::before {content: \"\";position: absolute;border-left: 1px solid gray;box-sizing: border-box;top: 0;bottom: 0;left: 50%;z-index: -1;}#sk-container-id-5 div.sk-parallel-item {display: flex;flex-direction: column;z-index: 1;position: relative;background-color: white;}#sk-container-id-5 div.sk-parallel-item:first-child::after {align-self: flex-end;width: 50%;}#sk-container-id-5 div.sk-parallel-item:last-child::after {align-self: flex-start;width: 50%;}#sk-container-id-5 div.sk-parallel-item:only-child::after {width: 0;}#sk-container-id-5 div.sk-dashed-wrapped {border: 1px dashed gray;margin: 0 0.4em 0.5em 0.4em;box-sizing: border-box;padding-bottom: 0.4em;background-color: white;}#sk-container-id-5 div.sk-label label {font-family: monospace;font-weight: bold;display: inline-block;line-height: 1.2em;}#sk-container-id-5 div.sk-label-container {text-align: center;}#sk-container-id-5 div.sk-container {/* jupyter's `normalize.less` sets `[hidden] { display: none; }` but bootstrap.min.css set `[hidden] { display: none !important; }` so we also need the `!important` here to be able to override the default hidden behavior on the sphinx rendered scikit-learn.org. See: https://github.com/scikit-learn/scikit-learn/issues/21755 */display: inline-block !important;position: relative;}#sk-container-id-5 div.sk-text-repr-fallback {display: none;}</style><div id=\"sk-container-id-5\" class=\"sk-top-container\"><div class=\"sk-text-repr-fallback\"><pre>Lasso(alpha=0.002)</pre><b>In a Jupyter environment, please rerun this cell to show the HTML representation or trust the notebook. <br />On GitHub, the HTML representation is unable to render, please try loading this page with nbviewer.org.</b></div><div class=\"sk-container\" hidden><div class=\"sk-item\"><div class=\"sk-estimator sk-toggleable\"><input class=\"sk-toggleable__control sk-hidden--visually\" id=\"sk-estimator-id-5\" type=\"checkbox\" checked><label for=\"sk-estimator-id-5\" class=\"sk-toggleable__label sk-toggleable__label-arrow\">Lasso</label><div class=\"sk-toggleable__content\"><pre>Lasso(alpha=0.002)</pre></div></div></div></div></div>"
      ],
      "text/plain": [
       "Lasso(alpha=0.002)"
      ]
     },
     "execution_count": 93,
     "metadata": {},
     "output_type": "execute_result"
    }
   ],
   "source": [
    "lasso_model = Lasso(alpha=0.002)\n",
    "lasso_model.fit(X, y)"
   ]
  },
  {
   "cell_type": "code",
   "execution_count": 94,
   "id": "7e1ff541",
   "metadata": {},
   "outputs": [
    {
     "name": "stdout",
     "output_type": "stream",
     "text": [
      "Variables sélectionnées par Lasso: Index(['Num_Acc', 'hrmn', 'lum', 'agg', 'int', 'atm', 'col', 'catr', 'circ',\n",
      "       'nbv', 'prof', 'plan', 'surf', 'infra', 'situ', 'senc', 'catv',\n",
      "       'occutc', 'obs', 'obsm', 'choc', 'manv', 'catu', 'sexe', 'trajet',\n",
      "       'locp', 'actp', 'etatp', 'vma', 'age_conducteur', 'secu_combined'],\n",
      "      dtype='object')\n"
     ]
    }
   ],
   "source": [
    "selected_columns = X.columns[lasso_model.coef_ != 0]\n",
    "print(\"Variables sélectionnées par Lasso:\", selected_columns)"
   ]
  },
  {
   "cell_type": "markdown",
   "id": "24098a47",
   "metadata": {},
   "source": [
    "TRAINNING"
   ]
  },
  {
   "cell_type": "code",
   "execution_count": 95,
   "id": "807df77b",
   "metadata": {},
   "outputs": [],
   "source": [
    "sample_data = processed_df.sample(n=70000, random_state=42)\n",
    "\n",
    "X1 = sample_data[selected_columns]\n",
    "y1 = sample_data['grav']\n",
    "\n",
    "X_train, X_test, y_train, y_test = train_test_split(X1, y1, test_size=0.3, random_state=42)"
   ]
  },
  {
   "cell_type": "code",
   "execution_count": 96,
   "id": "e3eb9a4b",
   "metadata": {},
   "outputs": [
    {
     "data": {
      "text/plain": [
       "array([0, 1], dtype=int64)"
      ]
     },
     "execution_count": 96,
     "metadata": {},
     "output_type": "execute_result"
    }
   ],
   "source": [
    "sample_data['grav'].unique()"
   ]
  },
  {
   "cell_type": "code",
   "execution_count": 32,
   "id": "48df2113",
   "metadata": {},
   "outputs": [
    {
     "data": {
      "text/html": [
       "<style>#sk-container-id-3 {color: black;}#sk-container-id-3 pre{padding: 0;}#sk-container-id-3 div.sk-toggleable {background-color: white;}#sk-container-id-3 label.sk-toggleable__label {cursor: pointer;display: block;width: 100%;margin-bottom: 0;padding: 0.3em;box-sizing: border-box;text-align: center;}#sk-container-id-3 label.sk-toggleable__label-arrow:before {content: \"▸\";float: left;margin-right: 0.25em;color: #696969;}#sk-container-id-3 label.sk-toggleable__label-arrow:hover:before {color: black;}#sk-container-id-3 div.sk-estimator:hover label.sk-toggleable__label-arrow:before {color: black;}#sk-container-id-3 div.sk-toggleable__content {max-height: 0;max-width: 0;overflow: hidden;text-align: left;background-color: #f0f8ff;}#sk-container-id-3 div.sk-toggleable__content pre {margin: 0.2em;color: black;border-radius: 0.25em;background-color: #f0f8ff;}#sk-container-id-3 input.sk-toggleable__control:checked~div.sk-toggleable__content {max-height: 200px;max-width: 100%;overflow: auto;}#sk-container-id-3 input.sk-toggleable__control:checked~label.sk-toggleable__label-arrow:before {content: \"▾\";}#sk-container-id-3 div.sk-estimator input.sk-toggleable__control:checked~label.sk-toggleable__label {background-color: #d4ebff;}#sk-container-id-3 div.sk-label input.sk-toggleable__control:checked~label.sk-toggleable__label {background-color: #d4ebff;}#sk-container-id-3 input.sk-hidden--visually {border: 0;clip: rect(1px 1px 1px 1px);clip: rect(1px, 1px, 1px, 1px);height: 1px;margin: -1px;overflow: hidden;padding: 0;position: absolute;width: 1px;}#sk-container-id-3 div.sk-estimator {font-family: monospace;background-color: #f0f8ff;border: 1px dotted black;border-radius: 0.25em;box-sizing: border-box;margin-bottom: 0.5em;}#sk-container-id-3 div.sk-estimator:hover {background-color: #d4ebff;}#sk-container-id-3 div.sk-parallel-item::after {content: \"\";width: 100%;border-bottom: 1px solid gray;flex-grow: 1;}#sk-container-id-3 div.sk-label:hover label.sk-toggleable__label {background-color: #d4ebff;}#sk-container-id-3 div.sk-serial::before {content: \"\";position: absolute;border-left: 1px solid gray;box-sizing: border-box;top: 0;bottom: 0;left: 50%;z-index: 0;}#sk-container-id-3 div.sk-serial {display: flex;flex-direction: column;align-items: center;background-color: white;padding-right: 0.2em;padding-left: 0.2em;position: relative;}#sk-container-id-3 div.sk-item {position: relative;z-index: 1;}#sk-container-id-3 div.sk-parallel {display: flex;align-items: stretch;justify-content: center;background-color: white;position: relative;}#sk-container-id-3 div.sk-item::before, #sk-container-id-3 div.sk-parallel-item::before {content: \"\";position: absolute;border-left: 1px solid gray;box-sizing: border-box;top: 0;bottom: 0;left: 50%;z-index: -1;}#sk-container-id-3 div.sk-parallel-item {display: flex;flex-direction: column;z-index: 1;position: relative;background-color: white;}#sk-container-id-3 div.sk-parallel-item:first-child::after {align-self: flex-end;width: 50%;}#sk-container-id-3 div.sk-parallel-item:last-child::after {align-self: flex-start;width: 50%;}#sk-container-id-3 div.sk-parallel-item:only-child::after {width: 0;}#sk-container-id-3 div.sk-dashed-wrapped {border: 1px dashed gray;margin: 0 0.4em 0.5em 0.4em;box-sizing: border-box;padding-bottom: 0.4em;background-color: white;}#sk-container-id-3 div.sk-label label {font-family: monospace;font-weight: bold;display: inline-block;line-height: 1.2em;}#sk-container-id-3 div.sk-label-container {text-align: center;}#sk-container-id-3 div.sk-container {/* jupyter's `normalize.less` sets `[hidden] { display: none; }` but bootstrap.min.css set `[hidden] { display: none !important; }` so we also need the `!important` here to be able to override the default hidden behavior on the sphinx rendered scikit-learn.org. See: https://github.com/scikit-learn/scikit-learn/issues/21755 */display: inline-block !important;position: relative;}#sk-container-id-3 div.sk-text-repr-fallback {display: none;}</style><div id=\"sk-container-id-3\" class=\"sk-top-container\"><div class=\"sk-text-repr-fallback\"><pre>GridSearchCV(cv=5, estimator=GradientBoostingClassifier(random_state=42),\n",
       "             param_grid={&#x27;learning_rate&#x27;: [0.01, 0.05, 0.1, 0.25, 0.5, 0.75,\n",
       "                                           1]})</pre><b>In a Jupyter environment, please rerun this cell to show the HTML representation or trust the notebook. <br />On GitHub, the HTML representation is unable to render, please try loading this page with nbviewer.org.</b></div><div class=\"sk-container\" hidden><div class=\"sk-item sk-dashed-wrapped\"><div class=\"sk-label-container\"><div class=\"sk-label sk-toggleable\"><input class=\"sk-toggleable__control sk-hidden--visually\" id=\"sk-estimator-id-3\" type=\"checkbox\" ><label for=\"sk-estimator-id-3\" class=\"sk-toggleable__label sk-toggleable__label-arrow\">GridSearchCV</label><div class=\"sk-toggleable__content\"><pre>GridSearchCV(cv=5, estimator=GradientBoostingClassifier(random_state=42),\n",
       "             param_grid={&#x27;learning_rate&#x27;: [0.01, 0.05, 0.1, 0.25, 0.5, 0.75,\n",
       "                                           1]})</pre></div></div></div><div class=\"sk-parallel\"><div class=\"sk-parallel-item\"><div class=\"sk-item\"><div class=\"sk-label-container\"><div class=\"sk-label sk-toggleable\"><input class=\"sk-toggleable__control sk-hidden--visually\" id=\"sk-estimator-id-4\" type=\"checkbox\" ><label for=\"sk-estimator-id-4\" class=\"sk-toggleable__label sk-toggleable__label-arrow\">estimator: GradientBoostingClassifier</label><div class=\"sk-toggleable__content\"><pre>GradientBoostingClassifier(random_state=42)</pre></div></div></div><div class=\"sk-serial\"><div class=\"sk-item\"><div class=\"sk-estimator sk-toggleable\"><input class=\"sk-toggleable__control sk-hidden--visually\" id=\"sk-estimator-id-5\" type=\"checkbox\" ><label for=\"sk-estimator-id-5\" class=\"sk-toggleable__label sk-toggleable__label-arrow\">GradientBoostingClassifier</label><div class=\"sk-toggleable__content\"><pre>GradientBoostingClassifier(random_state=42)</pre></div></div></div></div></div></div></div></div></div></div>"
      ],
      "text/plain": [
       "GridSearchCV(cv=5, estimator=GradientBoostingClassifier(random_state=42),\n",
       "             param_grid={'learning_rate': [0.01, 0.05, 0.1, 0.25, 0.5, 0.75,\n",
       "                                           1]})"
      ]
     },
     "execution_count": 32,
     "metadata": {},
     "output_type": "execute_result"
    }
   ],
   "source": [
    "gb=GradientBoostingClassifier(random_state=42)\n",
    "param_grid = { \n",
    "    'learning_rate' :  [0.01,0.05,0.1, 0.25, 0.5, 0.75,1]\n",
    "}\n",
    "CV_gb = GridSearchCV(estimator=gb, param_grid=param_grid, cv= 5)\n",
    "CV_gb.fit(X1, y1)"
   ]
  },
  {
   "cell_type": "code",
   "execution_count": 33,
   "id": "bba60931",
   "metadata": {},
   "outputs": [
    {
     "data": {
      "text/plain": [
       "{'learning_rate': 0.5}"
      ]
     },
     "execution_count": 33,
     "metadata": {},
     "output_type": "execute_result"
    }
   ],
   "source": [
    "CV_gb.best_params_"
   ]
  },
  {
   "cell_type": "code",
   "execution_count": 97,
   "id": "eabe29d2",
   "metadata": {},
   "outputs": [],
   "source": [
    "gb = GradientBoostingClassifier(learning_rate=0.5)\n",
    "scores = cross_validate(gb, X_train, y_train,scoring=('accuracy', 'precision','recall'), cv=10)"
   ]
  },
  {
   "cell_type": "code",
   "execution_count": 98,
   "id": "d6dae351",
   "metadata": {},
   "outputs": [
    {
     "name": "stdout",
     "output_type": "stream",
     "text": [
      "0.736265306122449\n",
      "0.7192132149265096\n"
     ]
    }
   ],
   "source": [
    "print(scores['test_accuracy'].mean())\n",
    "print(scores['test_precision'].mean())"
   ]
  },
  {
   "cell_type": "code",
   "execution_count": 99,
   "id": "a598e822",
   "metadata": {},
   "outputs": [
    {
     "name": "stdout",
     "output_type": "stream",
     "text": [
      "Accuracy : 0.7378095238095238\n"
     ]
    }
   ],
   "source": [
    "gb.fit(X_train, y_train)\n",
    "\n",
    "predictions = gb.predict(X_test) \n",
    "accuracy = accuracy_score(y_test,predictions)\n",
    "print(\"Accuracy :\", accuracy)"
   ]
  },
  {
   "cell_type": "code",
   "execution_count": 105,
   "id": "8d1dcea7",
   "metadata": {},
   "outputs": [],
   "source": [
    "predictions_prob = gb.predict_proba(X_test)[:, 1]"
   ]
  },
  {
   "cell_type": "code",
   "execution_count": 187,
   "id": "c3eec061",
   "metadata": {},
   "outputs": [
    {
     "name": "stdout",
     "output_type": "stream",
     "text": [
      "Num_Acc 0.04698649997565297\n",
      "nbv 0.01965426619339307\n",
      "hrmn_2 0.0019486371610383025\n",
      "agg_2 0.06750897681397633\n",
      "lum_1 0.0010605615366429755\n",
      "lum_3 0.005688465061953477\n",
      "int_1 0.005376481574938257\n",
      "col_1.0 0.02401423170129951\n",
      "col_2.0 0.004483909109577591\n",
      "col_4.0 0.0027722237131417395\n",
      "col_6.0 0.0045298368749534905\n",
      "col_7.0 0.005992449991019439\n",
      "catr_3 0.011967805747036632\n",
      "circ_1.0 0.008409566656781746\n",
      "circ_2.0 0.049522101548632534\n",
      "plan_1.0 0.005033578005685117\n",
      "surf_1.0 0.0030879839201426026\n",
      "surf_2.0 0.0006472060512030777\n",
      "infra_0.0 0.004348098217711117\n",
      "situ_1.0 0.014791605001711254\n",
      "situ_3.0 0.004523672039223396\n",
      "senc_2.0 0.0017591826193430516\n",
      "catv_1 0.04609573536272075\n",
      "catv_2 0.03835587444425112\n",
      "obs_0.0 0.05610569382134612\n",
      "obs_2.0 0.018799563434276807\n",
      "obs_6.0 0.007630153650431267\n",
      "obsm_0.0 0.18130272371181527\n",
      "obsm_1.0 0.015136716708388667\n",
      "choc_1.0 0.002648600741411299\n",
      "manv_0.0 0.004783372617424697\n",
      "manv_1.0 0.004985132844569885\n",
      "manv_13.0 0.005437314453750273\n",
      "catu_2 0.008758320410499964\n",
      "catu_3 0.08627081227346185\n",
      "sexe_1 0.004850438930044946\n",
      "sexe_2 0.005065917135341851\n",
      "trajet_4.0 0.0245592390070454\n",
      "trajet_5.0 0.004972566112263892\n",
      "vma_80.0 0.13007653115951856\n",
      "vma_130.0 0.006036041554882089\n",
      "locp_0.0 0.03022977951259097\n",
      "etatp_1.0 0.008695825850003685\n",
      "age_conducteur_2 0.0015066948621424946\n",
      "age_conducteur_4 0.007412512548667718\n",
      "secu_combined_1 0.006177099338092554\n"
     ]
    }
   ],
   "source": [
    "imp = zip(selected_columns,gb.feature_importances_)\n",
    "for name,val in imp : \n",
    "    print(name,  val)"
   ]
  },
  {
   "cell_type": "code",
   "execution_count": 106,
   "id": "4285bd6f",
   "metadata": {},
   "outputs": [
    {
     "name": "stdout",
     "output_type": "stream",
     "text": [
      "[[10599  1912]\n",
      " [ 3594  4895]]\n"
     ]
    }
   ],
   "source": [
    "conf_matrix = confusion_matrix(y_test, predictions)\n",
    "\n",
    "print(conf_matrix)"
   ]
  },
  {
   "cell_type": "code",
   "execution_count": 107,
   "id": "0d2bbd0c",
   "metadata": {},
   "outputs": [
    {
     "ename": "TypeError",
     "evalue": "'numpy.float64' object is not callable",
     "output_type": "error",
     "traceback": [
      "\u001b[1;31m---------------------------------------------------------------------------\u001b[0m",
      "\u001b[1;31mTypeError\u001b[0m                                 Traceback (most recent call last)",
      "Cell \u001b[1;32mIn[107], line 2\u001b[0m\n\u001b[0;32m      1\u001b[0m fpr, tpr, thresholds \u001b[38;5;241m=\u001b[39m roc_curve(y_test, predictions_prob)\n\u001b[1;32m----> 2\u001b[0m roc_auc \u001b[38;5;241m=\u001b[39m auc(fpr, tpr)\n\u001b[0;32m      3\u001b[0m \u001b[38;5;28mprint\u001b[39m(\u001b[38;5;124m\"\u001b[39m\u001b[38;5;124mAUC :\u001b[39m\u001b[38;5;124m\"\u001b[39m, roc_auc)\n\u001b[0;32m      5\u001b[0m \u001b[38;5;66;03m# Tracer la courbe ROC\u001b[39;00m\n",
      "\u001b[1;31mTypeError\u001b[0m: 'numpy.float64' object is not callable"
     ]
    }
   ],
   "source": [
    "fpr, tpr, thresholds = roc_curve(y_test, predictions_prob)\n",
    "roc_auc = auc(fpr, tpr)\n",
    "print(\"AUC :\", roc_auc)\n",
    "\n",
    "# Tracer la courbe ROC\n",
    "plt.figure()\n",
    "plt.plot(fpr, tpr, color='darkorange', lw=2, label='ROC curve (area = %0.2f)' % roc_auc)\n",
    "plt.plot([0, 1], [0, 1], color='navy', lw=2, linestyle='--')\n",
    "plt.xlim([0.0, 1.0])\n",
    "plt.ylim([0.0, 1.05])\n",
    "plt.xlabel('False Positive Rate')\n",
    "plt.ylabel('True Positive Rate')\n",
    "plt.title('Receiver Operating Characteristic (ROC)')\n",
    "plt.legend(loc=\"lower right\")\n",
    "plt.show()"
   ]
  },
  {
   "cell_type": "code",
   "execution_count": 108,
   "id": "7293b6b7",
   "metadata": {},
   "outputs": [
    {
     "data": {
      "text/plain": [
       "0.7919437538857901"
      ]
     },
     "execution_count": 108,
     "metadata": {},
     "output_type": "execute_result"
    }
   ],
   "source": [
    "auc = roc_auc_score(y_test,predictions_prob)\n",
    "auc"
   ]
  },
  {
   "cell_type": "markdown",
   "id": "83c13af6",
   "metadata": {},
   "source": [
    "Test"
   ]
  },
  {
   "cell_type": "code",
   "execution_count": 109,
   "id": "ec464d7c",
   "metadata": {},
   "outputs": [
    {
     "name": "stderr",
     "output_type": "stream",
     "text": [
      "C:\\Users\\bodin\\AppData\\Local\\Temp\\ipykernel_1936\\2873906893.py:1: DtypeWarning: Columns (4,10,13,14,15) have mixed types. Specify dtype option on import or set low_memory=False.\n",
      "  carac_test = pd.read_csv(\"Data/TEST/CARACTERISTIQUES.csv\",delimiter=',', encoding= 'ISO-8859-1', usecols=lambda x: x != 'Unnamed: 0')\n",
      "C:\\Users\\bodin\\AppData\\Local\\Temp\\ipykernel_1936\\2873906893.py:2: DtypeWarning: Columns (7,8,12,13) have mixed types. Specify dtype option on import or set low_memory=False.\n",
      "  lieux_test = pd.read_csv(\"Data/TEST/LIEUX.csv\",delimiter=',', encoding= 'ISO-8859-1', usecols=lambda x: x != 'Unnamed: 0')\n",
      "C:\\Users\\bodin\\AppData\\Local\\Temp\\ipykernel_1936\\2873906893.py:3: DtypeWarning: Columns (7) have mixed types. Specify dtype option on import or set low_memory=False.\n",
      "  usa_test = pd.read_csv(\"Data/TEST/USAGERS.csv\",delimiter=',', encoding= 'ISO-8859-1', usecols=lambda x: x != 'Unnamed: 0')\n",
      "C:\\Users\\bodin\\AppData\\Local\\Temp\\ipykernel_1936\\2873906893.py:4: DtypeWarning: Columns (9) have mixed types. Specify dtype option on import or set low_memory=False.\n",
      "  vehi_test = pd.read_csv(\"Data/TEST/VEHICULES.csv\",delimiter=',', encoding= 'ISO-8859-1', usecols=lambda x: x != 'Unnamed: 0')\n"
     ]
    }
   ],
   "source": [
    "carac_test = pd.read_csv(\"Data/TEST/CARACTERISTIQUES.csv\",delimiter=',', encoding= 'ISO-8859-1', usecols=lambda x: x != 'Unnamed: 0')\n",
    "lieux_test = pd.read_csv(\"Data/TEST/LIEUX.csv\",delimiter=',', encoding= 'ISO-8859-1', usecols=lambda x: x != 'Unnamed: 0')\n",
    "usa_test = pd.read_csv(\"Data/TEST/USAGERS.csv\",delimiter=',', encoding= 'ISO-8859-1', usecols=lambda x: x != 'Unnamed: 0')\n",
    "vehi_test = pd.read_csv(\"Data/TEST/VEHICULES.csv\",delimiter=',', encoding= 'ISO-8859-1', usecols=lambda x: x != 'Unnamed: 0')"
   ]
  },
  {
   "cell_type": "code",
   "execution_count": 110,
   "id": "a860c49a",
   "metadata": {},
   "outputs": [],
   "source": [
    "df_pred = pd.merge(carac_test, lieux_test, on=\"Num_Acc\")\n",
    "df_pred = pd.merge(df_pred, vehi_test, on=\"Num_Acc\")\n",
    "df_pred = pd.merge(df_pred, usa_test, on=\"Num_Acc\")"
   ]
  },
  {
   "cell_type": "code",
   "execution_count": 111,
   "id": "f997223d",
   "metadata": {},
   "outputs": [],
   "source": [
    "# 1ère transformation : Conversion de la colonne 'hrmn' en catégories\n",
    "df_pred['hrmn'] = df_pred['hrmn'].astype(str).str.replace(':', '')\n",
    "df_pred['hrmn'] = df_pred['hrmn'].astype(int)\n",
    "df_pred['hrmn'] = df_pred['hrmn'].apply(map_hours_to_category)\n",
    "\n",
    "# 4ème transformation : Suppression de colonnes spécifiques\n",
    "cols_to_drop = ['mois','jour', 'com','dep', 'adr', 'gps', 'lat', 'long', 'voie', 'v1', 'v2', 'pr', 'pr1', 'num_veh_x', 'id_vehicule_x','id_vehicule_y','num_veh_y', 'id_usager','motor','secu2','secu3']\n",
    "df_pred.drop(columns=cols_to_drop, inplace=True)\n",
    "\n",
    "# 5ème transformation : Calcul de l'âge du conducteur et catégorisation\n",
    "df_pred['age_conducteur'] = df_pred['an'] - df_pred['an_nais']\n",
    "df_pred['age_conducteur'] = df_pred['age_conducteur'].apply(categorize_age)\n",
    "df_pred.drop(columns=['an', 'an_nais'], inplace=True)\n",
    "\n",
    "# 6ème transformation : Combinaison de colonnes 'secu' et 'secu1' et suppression\n",
    "df_pred['secu_combined'] = df_pred.apply(lambda row: combine_secu(row['secu'], row['secu1']), axis=1)\n",
    "df_pred.drop(columns=['secu', 'secu1'], inplace=True)\n",
    "\n",
    "# 7ème transformation : Catégorisation de la colonne 'catv'\n",
    "df_pred['catv'] = df_pred['catv'].apply(categorize_catv)\n",
    "\n",
    "# 8ème transformation : Remplissage de la vitesse maximale manquante\n",
    "df_pred['vma'] = df_pred.apply(fill_and_correct_vma, axis=1)\n",
    "\n",
    "# 9ème transformation : Traitement de la colonne 'nbv'\n",
    "df_pred['nbv'] = pd.to_numeric(df_pred['nbv'].astype(str).str.strip(), errors='coerce')\n",
    "df_pred['nbv'] = df_pred['nbv'].fillna(-1).astype(int)\n",
    "df_pred['nbv'] = df_pred['nbv'].apply(lambda x: x if x >= 0 else -1)\n",
    "\n",
    "# 10ème transformation : Remplissage de la colonne 'occutc'\n",
    "df_pred['occutc'] = df_pred.apply(fill_occutc, axis=1)\n",
    "\n",
    "# 11ème transformation : Suppression de colonnes spécifiques\n",
    "df_pred.drop(columns=['lartpc', 'larrout','env1','place'], inplace=True)\n",
    "\n",
    "# 12ème transformation : Remplissage de valeurs manquantes dans certaines colonnes\n",
    "cols_to_fill = ['atm', 'col', 'circ', 'vosp', 'prof', 'plan', 'surf', 'infra', 'situ','senc', 'occutc', 'obs', 'obsm', 'choc', 'manv', 'trajet', 'locp', 'etatp', 'actp']\n",
    "df_pred[cols_to_fill] = df_pred[cols_to_fill].fillna(-1)\n",
    "\n",
    "# 13ème transformation : Nettoyage de la colonne 'actp'\n",
    "df_pred['actp'] = df_pred['actp'].apply(clean_actp)"
   ]
  },
  {
   "cell_type": "code",
   "execution_count": 112,
   "id": "eaa84495",
   "metadata": {},
   "outputs": [
    {
     "data": {
      "text/html": [
       "<div>\n",
       "<style scoped>\n",
       "    .dataframe tbody tr th:only-of-type {\n",
       "        vertical-align: middle;\n",
       "    }\n",
       "\n",
       "    .dataframe tbody tr th {\n",
       "        vertical-align: top;\n",
       "    }\n",
       "\n",
       "    .dataframe thead th {\n",
       "        text-align: right;\n",
       "    }\n",
       "</style>\n",
       "<table border=\"1\" class=\"dataframe\">\n",
       "  <thead>\n",
       "    <tr style=\"text-align: right;\">\n",
       "      <th></th>\n",
       "      <th>Num_Acc</th>\n",
       "      <th>hrmn</th>\n",
       "      <th>lum</th>\n",
       "      <th>agg</th>\n",
       "      <th>int</th>\n",
       "      <th>atm</th>\n",
       "      <th>col</th>\n",
       "      <th>catr</th>\n",
       "      <th>circ</th>\n",
       "      <th>nbv</th>\n",
       "      <th>...</th>\n",
       "      <th>choc</th>\n",
       "      <th>manv</th>\n",
       "      <th>catu</th>\n",
       "      <th>sexe</th>\n",
       "      <th>trajet</th>\n",
       "      <th>locp</th>\n",
       "      <th>actp</th>\n",
       "      <th>etatp</th>\n",
       "      <th>age_conducteur</th>\n",
       "      <th>secu_combined</th>\n",
       "    </tr>\n",
       "  </thead>\n",
       "  <tbody>\n",
       "    <tr>\n",
       "      <th>0</th>\n",
       "      <td>201200049538</td>\n",
       "      <td>2</td>\n",
       "      <td>1</td>\n",
       "      <td>1</td>\n",
       "      <td>1</td>\n",
       "      <td>1.0</td>\n",
       "      <td>4.0</td>\n",
       "      <td>1</td>\n",
       "      <td>1.0</td>\n",
       "      <td>4</td>\n",
       "      <td>...</td>\n",
       "      <td>4.0</td>\n",
       "      <td>2.0</td>\n",
       "      <td>1</td>\n",
       "      <td>2</td>\n",
       "      <td>1.0</td>\n",
       "      <td>0.0</td>\n",
       "      <td>-1</td>\n",
       "      <td>0.0</td>\n",
       "      <td>1</td>\n",
       "      <td>-1</td>\n",
       "    </tr>\n",
       "    <tr>\n",
       "      <th>1</th>\n",
       "      <td>201200049538</td>\n",
       "      <td>2</td>\n",
       "      <td>1</td>\n",
       "      <td>1</td>\n",
       "      <td>1</td>\n",
       "      <td>1.0</td>\n",
       "      <td>4.0</td>\n",
       "      <td>1</td>\n",
       "      <td>1.0</td>\n",
       "      <td>4</td>\n",
       "      <td>...</td>\n",
       "      <td>4.0</td>\n",
       "      <td>2.0</td>\n",
       "      <td>1</td>\n",
       "      <td>2</td>\n",
       "      <td>1.0</td>\n",
       "      <td>0.0</td>\n",
       "      <td>-1</td>\n",
       "      <td>0.0</td>\n",
       "      <td>1</td>\n",
       "      <td>-1</td>\n",
       "    </tr>\n",
       "    <tr>\n",
       "      <th>2</th>\n",
       "      <td>201200049538</td>\n",
       "      <td>2</td>\n",
       "      <td>1</td>\n",
       "      <td>1</td>\n",
       "      <td>1</td>\n",
       "      <td>1.0</td>\n",
       "      <td>4.0</td>\n",
       "      <td>1</td>\n",
       "      <td>1.0</td>\n",
       "      <td>4</td>\n",
       "      <td>...</td>\n",
       "      <td>4.0</td>\n",
       "      <td>2.0</td>\n",
       "      <td>1</td>\n",
       "      <td>2</td>\n",
       "      <td>2.0</td>\n",
       "      <td>0.0</td>\n",
       "      <td>-1</td>\n",
       "      <td>0.0</td>\n",
       "      <td>1</td>\n",
       "      <td>-1</td>\n",
       "    </tr>\n",
       "    <tr>\n",
       "      <th>3</th>\n",
       "      <td>201200049538</td>\n",
       "      <td>2</td>\n",
       "      <td>1</td>\n",
       "      <td>1</td>\n",
       "      <td>1</td>\n",
       "      <td>1.0</td>\n",
       "      <td>4.0</td>\n",
       "      <td>1</td>\n",
       "      <td>1.0</td>\n",
       "      <td>4</td>\n",
       "      <td>...</td>\n",
       "      <td>5.0</td>\n",
       "      <td>2.0</td>\n",
       "      <td>1</td>\n",
       "      <td>2</td>\n",
       "      <td>1.0</td>\n",
       "      <td>0.0</td>\n",
       "      <td>-1</td>\n",
       "      <td>0.0</td>\n",
       "      <td>1</td>\n",
       "      <td>-1</td>\n",
       "    </tr>\n",
       "    <tr>\n",
       "      <th>4</th>\n",
       "      <td>201200049538</td>\n",
       "      <td>2</td>\n",
       "      <td>1</td>\n",
       "      <td>1</td>\n",
       "      <td>1</td>\n",
       "      <td>1.0</td>\n",
       "      <td>4.0</td>\n",
       "      <td>1</td>\n",
       "      <td>1.0</td>\n",
       "      <td>4</td>\n",
       "      <td>...</td>\n",
       "      <td>5.0</td>\n",
       "      <td>2.0</td>\n",
       "      <td>1</td>\n",
       "      <td>2</td>\n",
       "      <td>1.0</td>\n",
       "      <td>0.0</td>\n",
       "      <td>-1</td>\n",
       "      <td>0.0</td>\n",
       "      <td>1</td>\n",
       "      <td>-1</td>\n",
       "    </tr>\n",
       "  </tbody>\n",
       "</table>\n",
       "<p>5 rows × 32 columns</p>\n",
       "</div>"
      ],
      "text/plain": [
       "        Num_Acc  hrmn  lum  agg  int  atm  col  catr  circ  nbv  ...  choc  \\\n",
       "0  201200049538     2    1    1    1  1.0  4.0     1   1.0    4  ...   4.0   \n",
       "1  201200049538     2    1    1    1  1.0  4.0     1   1.0    4  ...   4.0   \n",
       "2  201200049538     2    1    1    1  1.0  4.0     1   1.0    4  ...   4.0   \n",
       "3  201200049538     2    1    1    1  1.0  4.0     1   1.0    4  ...   5.0   \n",
       "4  201200049538     2    1    1    1  1.0  4.0     1   1.0    4  ...   5.0   \n",
       "\n",
       "   manv  catu  sexe  trajet  locp  actp  etatp  age_conducteur  secu_combined  \n",
       "0   2.0     1     2     1.0   0.0    -1    0.0               1             -1  \n",
       "1   2.0     1     2     1.0   0.0    -1    0.0               1             -1  \n",
       "2   2.0     1     2     2.0   0.0    -1    0.0               1             -1  \n",
       "3   2.0     1     2     1.0   0.0    -1    0.0               1             -1  \n",
       "4   2.0     1     2     1.0   0.0    -1    0.0               1             -1  \n",
       "\n",
       "[5 rows x 32 columns]"
      ]
     },
     "execution_count": 112,
     "metadata": {},
     "output_type": "execute_result"
    }
   ],
   "source": [
    "df_pred.head()"
   ]
  },
  {
   "cell_type": "code",
   "execution_count": 113,
   "id": "70a24db3",
   "metadata": {},
   "outputs": [],
   "source": [
    "max_cols = ['hrmn', 'vma', 'age_conducteur', 'occutc', 'catu','nbv','grav']\n",
    "mode_cols = ['lum', 'agg', 'int', 'atm', 'col', 'circ', 'vosp', 'prof', 'plan', 'surf', 'infra', 'situ', 'obs', 'obsm', 'manv', 'trajet', 'locp', 'etatp', 'actp']\n",
    "target_cols = ['catv', 'col','vosp','senc', 'choc', 'secu_combined', 'sexe']"
   ]
  },
  {
   "cell_type": "code",
   "execution_count": 114,
   "id": "c39c4898",
   "metadata": {},
   "outputs": [],
   "source": [
    "processed_df_test = process_duplicates(df_pred, target_cols=target_cols, max_cols=max_cols, mode_cols=mode_cols)"
   ]
  },
  {
   "cell_type": "code",
   "execution_count": 115,
   "id": "ede79520",
   "metadata": {},
   "outputs": [],
   "source": [
    "columns_to_convert = ['hrmn','agg','lum','int','atm','col','catr','circ','vosp','prof','plan','surf','infra','situ',\n",
    "                      'senc','catv','obs','obsm','choc','manv','catu','sexe','trajet','locp','actp','etatp','vma',\n",
    "                      'age_conducteur','secu_combined']\n",
    "\n",
    "df_dummies = pd.get_dummies(df_pred, columns=columns_to_convert, drop_first=False)"
   ]
  },
  {
   "cell_type": "code",
   "execution_count": 116,
   "id": "7ffec5b8",
   "metadata": {},
   "outputs": [],
   "source": [
    "X_new = processed_df_test[X_train.columns]"
   ]
  },
  {
   "cell_type": "code",
   "execution_count": 117,
   "id": "7b90d73e",
   "metadata": {},
   "outputs": [],
   "source": [
    "probabilites_grave = gb.predict_proba(X_new)[:, 1]  \n",
    "probabilites_grave = np.clip(probabilites_grave, 0, 1)  \n",
    "\n",
    "\n",
    "predictions_df = pd.DataFrame({'Num_Acc': X_new['Num_Acc'], 'GRAVE': probabilites_grave})\n",
    "predictions_df.to_csv('predictions.csv', index=False)"
   ]
  },
  {
   "cell_type": "code",
   "execution_count": null,
   "id": "b13a2547",
   "metadata": {},
   "outputs": [],
   "source": []
  }
 ],
 "metadata": {
  "kernelspec": {
   "display_name": "Python 3 (ipykernel)",
   "language": "python",
   "name": "python3"
  },
  "language_info": {
   "codemirror_mode": {
    "name": "ipython",
    "version": 3
   },
   "file_extension": ".py",
   "mimetype": "text/x-python",
   "name": "python",
   "nbconvert_exporter": "python",
   "pygments_lexer": "ipython3",
   "version": "3.11.5"
  }
 },
 "nbformat": 4,
 "nbformat_minor": 5
}
